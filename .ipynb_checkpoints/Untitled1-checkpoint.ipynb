{
 "cells": [
  {
   "cell_type": "code",
   "execution_count": 28,
   "id": "af66b7ff",
   "metadata": {},
   "outputs": [
    {
     "name": "stdout",
     "output_type": "stream",
     "text": [
      "Shape before one-hot encoding:  (60000,)\n",
      "Shape after one-hot encoding:  (60000, 10)\n",
      "Epoch 1/10\n",
      "469/469 [==============================] - 47s 98ms/step - loss: 0.2283 - accuracy: 0.9305 - val_loss: 0.0563 - val_accuracy: 0.9821\n",
      "Epoch 2/10\n",
      "469/469 [==============================] - 47s 101ms/step - loss: 0.0586 - accuracy: 0.9822 - val_loss: 0.0507 - val_accuracy: 0.9821\n",
      "Epoch 3/10\n",
      "469/469 [==============================] - 47s 100ms/step - loss: 0.0404 - accuracy: 0.9873 - val_loss: 0.0361 - val_accuracy: 0.9873\n",
      "Epoch 4/10\n",
      "469/469 [==============================] - 43s 91ms/step - loss: 0.0294 - accuracy: 0.9913 - val_loss: 0.0508 - val_accuracy: 0.9847\n",
      "Epoch 5/10\n",
      "469/469 [==============================] - 41s 87ms/step - loss: 0.0240 - accuracy: 0.9923 - val_loss: 0.0289 - val_accuracy: 0.9908\n",
      "Epoch 6/10\n",
      "469/469 [==============================] - 40s 85ms/step - loss: 0.0191 - accuracy: 0.9937 - val_loss: 0.0332 - val_accuracy: 0.9882\n",
      "Epoch 7/10\n",
      "469/469 [==============================] - 43s 93ms/step - loss: 0.0174 - accuracy: 0.9942 - val_loss: 0.0304 - val_accuracy: 0.9897\n",
      "Epoch 8/10\n",
      "469/469 [==============================] - 41s 88ms/step - loss: 0.0139 - accuracy: 0.9954 - val_loss: 0.0304 - val_accuracy: 0.9902\n",
      "Epoch 9/10\n",
      "469/469 [==============================] - 41s 87ms/step - loss: 0.0119 - accuracy: 0.9959 - val_loss: 0.0319 - val_accuracy: 0.9911\n",
      "Epoch 10/10\n",
      "469/469 [==============================] - 41s 88ms/step - loss: 0.0118 - accuracy: 0.9960 - val_loss: 0.0362 - val_accuracy: 0.9901\n",
      "1/1 [==============================] - 0s 73ms/step\n",
      "[[1. 0. 0. 0. 0. 0. 0. 0. 0. 0.]]\n"
     ]
    }
   ],
   "source": [
    "# keras imports for the dataset and building our neural network\n",
    "from keras.datasets import mnist\n",
    "from keras.models import Sequential\n",
    "from keras.layers import Dense, Dropout, Conv2D, MaxPool2D, Flatten\n",
    "from keras.utils import np_utils\n",
    "# to calculate accuracy\n",
    "from sklearn.metrics import accuracy_score\n",
    "from keras.preprocessing.image import ImageDataGenerator\n",
    "import keras.utils as image\n",
    "import numpy as np\n",
    "import matplotlib.pyplot as plt\n",
    "\n",
    "# loading the dataset\n",
    "(X_train, y_train), (X_test, y_test) = mnist.load_data()\n",
    "\n",
    "# building the input vector from the 28x28 pixels\n",
    "X_train = X_train.reshape(X_train.shape[0], 28, 28, 1)\n",
    "X_test = X_test.reshape(X_test.shape[0], 28, 28, 1)\n",
    "X_train = X_train.astype('float32')\n",
    "X_test = X_test.astype('float32')\n",
    "\n",
    "# normalizing the data to help with the training\n",
    "X_train /= 255\n",
    "X_test /= 255\n",
    "\n",
    "# one-hot encoding using keras' numpy-related utilities\n",
    "n_classes = 10\n",
    "print(\"Shape before one-hot encoding: \", y_train.shape)\n",
    "Y_train = np_utils.to_categorical(y_train, n_classes)\n",
    "Y_test = np_utils.to_categorical(y_test, n_classes)\n",
    "print(\"Shape after one-hot encoding: \", Y_train.shape)\n",
    "\n",
    "# building a linear stack of layers with the sequential model\n",
    "model = Sequential()\n",
    "# convolutional layer\n",
    "model.add(Conv2D(64, kernel_size=(3,3), strides=(1,1), padding='valid', activation='relu', input_shape=(28,28,1)))\n",
    "model.add(MaxPool2D(pool_size=(2,2)))\n",
    "model.add(Conv2D(32, kernel_size=(3,3), strides=(1,1), padding='valid', activation='relu'))\n",
    "model.add(MaxPool2D(pool_size=(2,2)))\n",
    "# flatten output of conv\n",
    "model.add(Flatten())\n",
    "# hidden layer\n",
    "model.add(Dense(128, activation='relu'))\n",
    "model.add(Dense(128, activation='relu'))\n",
    "# output layer\n",
    "model.add(Dense(10, activation='softmax'))\n",
    "\n",
    "# compiling the sequential model\n",
    "model.compile(loss='categorical_crossentropy', metrics=['accuracy'], optimizer='adam')\n",
    "\n",
    "# training the model for 10 epochs\n",
    "model.fit(X_train, Y_train, batch_size=128, epochs=10, validation_data=(X_test, Y_test))\n",
    "\n",
    "test_image = image.load_img('dataset/single_prediction/zero.jpg', target_size = (28, 28), color_mode = \"grayscale\", keep_aspect_ratio = True)\n",
    "test_image = image.img_to_array(test_image)\n",
    "test_image = np.expand_dims(test_image, axis = 0)\n",
    "result = model.predict(test_image)\n",
    "# training_set.class_indices\n",
    "print(result)"
   ]
  },
  {
   "cell_type": "code",
   "execution_count": 97,
   "id": "491b0754",
   "metadata": {},
   "outputs": [
    {
     "name": "stdout",
     "output_type": "stream",
     "text": [
      "1/1 [==============================] - 0s 23ms/step\n",
      "Prediction:  8\n"
     ]
    },
    {
     "data": {
      "image/png": "[encoded data removed]",
      "text/plain": [
       "<Figure size 640x480 with 1 Axes>"
      ]
     },
     "metadata": {},
     "output_type": "display_data"
    }
   ],
   "source": [
    "test_image = image.load_img('dataset/single_prediction/nine.jpg', target_size = (28, 28), color_mode = \"grayscale\")\n",
    "test_image = PIL.ImageOps.invert(test_image)\n",
    "plt.imshow(test_image, cmap='Greys')\n",
    "test_image = image.img_to_array(test_image)\n",
    "test_image = np.expand_dims(test_image, axis = 0)\n",
    "result = model.predict(test_image)\n",
    "print('Prediction: ', result.argmax())"
   ]
  },
  {
   "cell_type": "code",
   "execution_count": 16,
   "id": "fa87d9ed",
   "metadata": {},
   "outputs": [],
   "source": [
    "import matplotlib.pyplot as plt"
   ]
  },
  {
   "cell_type": "code",
   "execution_count": 46,
   "id": "6aeb0e68",
   "metadata": {},
   "outputs": [],
   "source": [
    "from PIL import Image\n",
    "import PIL.ImageOps"
   ]
  },
  {
   "cell_type": "code",
   "execution_count": null,
   "id": "5a67d554",
   "metadata": {},
   "outputs": [],
   "source": []
  }
 ],
 "metadata": {
  "kernelspec": {
   "display_name": "Python 3 (ipykernel)",
   "language": "python",
   "name": "python3"
  },
  "language_info": {
   "codemirror_mode": {
    "name": "ipython",
    "version": 3
   },
   "file_extension": ".py",
   "mimetype": "text/x-python",
   "name": "python",
   "nbconvert_exporter": "python",
   "pygments_lexer": "ipython3",
   "version": "3.10.6"
  }
 },
 "nbformat": 4,
 "nbformat_minor": 5
}
